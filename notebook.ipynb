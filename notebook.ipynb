{
  "cells": [
    {
      "cell_type": "markdown",
      "metadata": {
        "id": "dc94cf83"
      },
      "source": [
        "<a href=\"https://colab.research.google.com/github/wandb/examples/blob/master/colabs/jupyter/Interactive_W&B_Charts_Inside_Jupyter.ipynb\" target=\"_parent\"><img src=\"https://colab.research.google.com/assets/colab-badge.svg\" alt=\"Open In Colab\"/></a>\n"
      ]
    },
    {
      "cell_type": "markdown",
      "metadata": {
        "id": "Z1v_PDVMJPwU"
      },
      "source": [
        "<img src=\"https://wandb.me/logo-im-png\" width=\"400\" alt=\"Weights & Biases\" />\n"
      ]
    },
    {
      "cell_type": "markdown",
      "metadata": {
        "id": "Aa9Xug-qJPwV"
      },
      "source": [
        "\n",
        "Use Weights & Biases for machine learning experiment tracking, dataset versioning, and project collaboration.\n"
      ]
    },
    {
      "cell_type": "markdown",
      "metadata": {
        "id": "yH1-p6PWJPwV"
      },
      "source": [
        "<img src=\"http://wandb.me/mini-diagram\" width=\"650\" alt=\"Weights & Biases\" />"
      ]
    },
    {
      "cell_type": "markdown",
      "metadata": {
        "id": "ibA-92alJPwV"
      },
      "source": [
        "# Use W&B without leaving Jupyter\n"
      ]
    },
    {
      "cell_type": "markdown",
      "metadata": {
        "id": "7UFtQskMJPwW"
      },
      "source": [
        "Jupyter is the preferred development environment for many ML practitioners\n",
        "because it supports rapid experimentation and\n",
        "highly visual workflows (including creating charts).\n",
        "Plus tools like Google Colab, Kaggle Kernels, and Paperspace Gradient\n",
        "make it easy to share and collaborate on notebooks.\n",
        "\n",
        "Quick experiments, visualization, and collaboration\n",
        "are core values of W&B,\n",
        "so we've made it easy to use W&B inside Jupyter.\n",
        "\n",
        "In a nutshell, the steps are:\n",
        "\n",
        "1. Use one of two methods to get hold of a `Run`, `Sweep`, or `Report` object, depending on whether you're logging to a new experiment or analyzing an old one.\n",
        "2. `.display` the object to get a live dashboard beneath a cell.\n",
        "3. Interact with the dashboard: log new results, create charts, or review metadata."
      ]
    },
    {
      "cell_type": "markdown",
      "metadata": {
        "id": "CsYzOkCsJPwW"
      },
      "source": [
        "Here's a (static) preview of one such dashboard:"
      ]
    },
    {
      "cell_type": "markdown",
      "metadata": {
        "id": "DWEsm7feJPwX"
      },
      "source": [
        "\n",
        "<img src=\"https://i.imgur.com/LhtnH1B.png\" alt= \"weights and biases jupyter integration\" width=\"500\" />\n",
        "\n"
      ]
    },
    {
      "cell_type": "markdown",
      "metadata": {
        "id": "yuFcoe7NJPwX"
      },
      "source": [
        "## Import, install, and log in"
      ]
    },
    {
      "cell_type": "code",
      "execution_count": 1,
      "metadata": {
        "colab": {
          "base_uri": "https://localhost:8080/"
        },
        "id": "8mvIndMVJPwY",
        "outputId": "04ec3368-4a59-443f-e673-7f9120c28836"
      },
      "outputs": [
        {
          "output_type": "stream",
          "name": "stdout",
          "text": [
            "\u001b[K     |████████████████████████████████| 1.8 MB 14.9 MB/s \n",
            "\u001b[K     |████████████████████████████████| 153 kB 51.0 MB/s \n",
            "\u001b[K     |████████████████████████████████| 181 kB 52.9 MB/s \n",
            "\u001b[K     |████████████████████████████████| 63 kB 1.6 MB/s \n",
            "\u001b[?25h  Building wheel for pathtools (setup.py) ... \u001b[?25l\u001b[?25hdone\n"
          ]
        }
      ],
      "source": [
        "!pip install wandb -qU"
      ]
    },
    {
      "cell_type": "code",
      "execution_count": 2,
      "metadata": {
        "colab": {
          "base_uri": "https://localhost:8080/",
          "height": 121
        },
        "id": "uYx_SNdZJPwY",
        "outputId": "7dff10d2-a373-4a78-bb63-0442aebb1e45"
      },
      "outputs": [
        {
          "output_type": "display_data",
          "data": {
            "text/plain": [
              "<IPython.core.display.Javascript object>"
            ],
            "application/javascript": [
              "\n",
              "        window._wandbApiKey = new Promise((resolve, reject) => {\n",
              "            function loadScript(url) {\n",
              "            return new Promise(function(resolve, reject) {\n",
              "                let newScript = document.createElement(\"script\");\n",
              "                newScript.onerror = reject;\n",
              "                newScript.onload = resolve;\n",
              "                document.body.appendChild(newScript);\n",
              "                newScript.src = url;\n",
              "            });\n",
              "            }\n",
              "            loadScript(\"https://cdn.jsdelivr.net/npm/postmate/build/postmate.min.js\").then(() => {\n",
              "            const iframe = document.createElement('iframe')\n",
              "            iframe.style.cssText = \"width:0;height:0;border:none\"\n",
              "            document.body.appendChild(iframe)\n",
              "            const handshake = new Postmate({\n",
              "                container: iframe,\n",
              "                url: 'https://wandb.ai/authorize'\n",
              "            });\n",
              "            const timeout = setTimeout(() => reject(\"Couldn't auto authenticate\"), 5000)\n",
              "            handshake.then(function(child) {\n",
              "                child.on('authorize', data => {\n",
              "                    clearTimeout(timeout)\n",
              "                    resolve(data)\n",
              "                });\n",
              "            });\n",
              "            })\n",
              "        });\n",
              "    "
            ]
          },
          "metadata": {}
        },
        {
          "output_type": "stream",
          "name": "stderr",
          "text": [
            "\u001b[34m\u001b[1mwandb\u001b[0m: Logging into wandb.ai. (Learn how to deploy a W&B server locally: https://wandb.me/wandb-server)\n",
            "\u001b[34m\u001b[1mwandb\u001b[0m: You can find your API key in your browser here: https://wandb.ai/authorize\n",
            "wandb: Paste an API key from your profile and hit enter, or press ctrl+c to quit: "
          ]
        },
        {
          "name": "stdout",
          "output_type": "stream",
          "text": [
            "··········\n"
          ]
        },
        {
          "output_type": "stream",
          "name": "stderr",
          "text": [
            "\u001b[34m\u001b[1mwandb\u001b[0m: Appending key for api.wandb.ai to your netrc file: /root/.netrc\n"
          ]
        },
        {
          "output_type": "execute_result",
          "data": {
            "text/plain": [
              "True"
            ]
          },
          "metadata": {},
          "execution_count": 2
        }
      ],
      "source": [
        "import wandb\n",
        "wandb.login()"
      ]
    },
    {
      "cell_type": "markdown",
      "metadata": {
        "id": "Mw5MiHWHJPwZ"
      },
      "source": [
        "## Method 1: `display` and log to a live W&B `Run`"
      ]
    },
    {
      "cell_type": "markdown",
      "metadata": {
        "id": "NvTMXpWCJPwZ"
      },
      "source": [
        "The result of the last line of each cell in a Jupyter notebook is \"displayed\" automatically.\n",
        "\n",
        "Our W&B pages hook into this system:\n",
        "they are rendered as an interactive window."
      ]
    },
    {
      "cell_type": "markdown",
      "metadata": {
        "id": "ZZLQs3obJPwZ"
      },
      "source": [
        "First we need to kick the run off with\n",
        "[`wandb.init`](https://docs.wandb.ai/guides/track/launch)."
      ]
    },
    {
      "cell_type": "code",
      "execution_count": 3,
      "metadata": {
        "colab": {
          "base_uri": "https://localhost:8080/",
          "height": 86
        },
        "id": "VD10ljJ1JPwZ",
        "outputId": "b33ccccf-e5c5-41eb-a025-e90fa64b44b0"
      },
      "outputs": [
        {
          "output_type": "stream",
          "name": "stderr",
          "text": [
            "\u001b[34m\u001b[1mwandb\u001b[0m: Currently logged in as: \u001b[33mbexgboost\u001b[0m. Use \u001b[1m`wandb login --relogin`\u001b[0m to force relogin\n"
          ]
        },
        {
          "output_type": "display_data",
          "data": {
            "text/plain": [
              "<IPython.core.display.HTML object>"
            ],
            "text/html": [
              "Tracking run with wandb version 0.12.21"
            ]
          },
          "metadata": {}
        },
        {
          "output_type": "display_data",
          "data": {
            "text/plain": [
              "<IPython.core.display.HTML object>"
            ],
            "text/html": [
              "Run data is saved locally in <code>/content/wandb/run-20220727_101514-3us8sz38</code>"
            ]
          },
          "metadata": {}
        },
        {
          "output_type": "display_data",
          "data": {
            "text/plain": [
              "<IPython.core.display.HTML object>"
            ],
            "text/html": [
              "Syncing run <strong><a href=\"https://wandb.ai/bexgboost/jupyter-projo/runs/3us8sz38\" target=\"_blank\">zesty-silence-1</a></strong> to <a href=\"https://wandb.ai/bexgboost/jupyter-projo\" target=\"_blank\">Weights & Biases</a> (<a href=\"https://wandb.me/run\" target=\"_blank\">docs</a>)<br/>"
            ]
          },
          "metadata": {}
        }
      ],
      "source": [
        "run = wandb.init(project=\"jupyter-projo\",\n",
        "                 config={\"batch_size\": 128,\n",
        "                         \"learning_rate\": 0.01,\n",
        "                         \"dataset\": \"CIFAR-100\"})"
      ]
    },
    {
      "cell_type": "markdown",
      "metadata": {
        "id": "YM9PKyW7JPwa"
      },
      "source": [
        "Then we create an interactive dashboard of the size we want for the run and display it."
      ]
    },
    {
      "cell_type": "code",
      "execution_count": 4,
      "metadata": {
        "colab": {
          "base_uri": "https://localhost:8080/",
          "height": 758
        },
        "id": "nxQB3x1AJPwa",
        "outputId": "cd8ac330-663f-409b-b70b-966c37afc5bb"
      },
      "outputs": [
        {
          "output_type": "display_data",
          "data": {
            "text/plain": [
              "<IPython.core.display.HTML object>"
            ],
            "text/html": [
              "<iframe src=\"https://wandb.ai/bexgboost/jupyter-projo/runs/3us8sz38?jupyter=true\" style=\"border:none;width:100%;height:720px;\"></iframe>"
            ]
          },
          "metadata": {}
        },
        {
          "output_type": "execute_result",
          "data": {
            "text/plain": [
              "True"
            ]
          },
          "metadata": {},
          "execution_count": 4
        }
      ],
      "source": [
        "run.display(height=720)"
      ]
    },
    {
      "cell_type": "markdown",
      "metadata": {
        "id": "sGr6waCHJPwa"
      },
      "source": [
        "Anything logged as part of this experiment (until you call `wandb.finish`)\n",
        "will be added to that chart.\n",
        "\n",
        "Run the cell below to watch the metrics stream in live!"
      ]
    },
    {
      "cell_type": "code",
      "execution_count": 5,
      "metadata": {
        "id": "jLrIEm02JPwa"
      },
      "outputs": [],
      "source": [
        "import time\n",
        "\n",
        "for ii in range(30):\n",
        "  wandb.log({\"acc\": 1 - 2 ** -ii, \"loss\": 2 ** -ii})\n",
        "  time.sleep(0.5)"
      ]
    },
    {
      "cell_type": "markdown",
      "metadata": {
        "id": "M_jI8lByJPwa"
      },
      "source": [
        "> **Anything else you can do from the\n",
        "[Run Page](https://docs.wandb.ai/ref/app/pages/run-page)\n",
        "can be done here** --\n",
        "[edit a chart](https://docs.wandb.ai/ref/app/pages/run-page#charts-tab),\n",
        "create a shareable link to it,\n",
        "and send it to collaborator;\n",
        "review your [system metrics](https://docs.wandb.ai/ref/app/pages/run-page#system-tabs)\n",
        "or the\n",
        "[logs from the standard out](https://docs.wandb.ai/ref/app/pages/run-page#logs-tab)\n",
        "or the\n",
        "[datasets and models you've logged](https://docs.wandb.ai/ref/app/pages/run-page#artifacts-tab);\n",
        "check the\n",
        "[configuration metadata](https://docs.wandb.ai/ref/app/pages/run-page#overview-tab).\n"
      ]
    },
    {
      "cell_type": "markdown",
      "metadata": {
        "id": "RolaabJtJPwb"
      },
      "source": [
        "`wandb` also prints a URL. That URL points to [the webpage](https://docs.wandb.ai/ref/app/pages/run-page)\n",
        "where your run's results are stored -- nothing to worry about if your notebook crashes or your kernel dies, it's all there!"
      ]
    },
    {
      "cell_type": "markdown",
      "metadata": {
        "id": "pEPzOzBMJPwb"
      },
      "source": [
        "### Finishing the run"
      ]
    },
    {
      "cell_type": "markdown",
      "metadata": {
        "id": "OCLk23t4JPwb"
      },
      "source": [
        "When you are done with your experiment,\n",
        "call `wandb.finish` to let us know there's nothing more to log.\n",
        "\n",
        "We'll print out a handy summary and history of your run,\n",
        "plus links to the webpages where all your run's information is stored.\n",
        "\n",
        "> **Hot Tip!** If you turn on [code saving](https://docs.wandb.ai/ref/app/features/panels/code) in your W&B [settings](https://wandb.ai/settings),\n",
        "we'll also save a copy of the notebook and its \"session history\": all the cells you ran, in order, in the state that you ran them in, with their outputs. Handy!"
      ]
    },
    {
      "cell_type": "code",
      "execution_count": 6,
      "metadata": {
        "colab": {
          "base_uri": "https://localhost:8080/",
          "height": 227,
          "referenced_widgets": [
            "28d83c5ef5034bbc84afe03d467f2f5d",
            "2adbc2c949af468f88c029a2dcd7d9d7",
            "fd49bdccc54244c8a5c3dfc319166ea3",
            "c92f82b732364599a3494436f8bcfc8e",
            "2ddacf243a984ca5890381a90332c9fd",
            "0d10130c61d74dada8847ec991550bf6",
            "b8a494eea1304f3ea4ce66a00287a6b8",
            "6d1d60cf4b1f4500af32e2fd0a09adf0"
          ]
        },
        "id": "hI9oYYEsJPwc",
        "outputId": "751a587b-ecc5-4dd8-9e4b-5651a180e7ca"
      },
      "outputs": [
        {
          "output_type": "display_data",
          "data": {
            "text/plain": [
              "<IPython.core.display.HTML object>"
            ],
            "text/html": [
              "Waiting for W&B process to finish... <strong style=\"color:green\">(success).</strong>"
            ]
          },
          "metadata": {}
        },
        {
          "output_type": "display_data",
          "data": {
            "text/plain": [
              "VBox(children=(Label(value='0.001 MB of 0.001 MB uploaded (0.000 MB deduped)\\r'), FloatProgress(value=1.0, max…"
            ],
            "application/vnd.jupyter.widget-view+json": {
              "version_major": 2,
              "version_minor": 0,
              "model_id": "28d83c5ef5034bbc84afe03d467f2f5d"
            }
          },
          "metadata": {}
        },
        {
          "output_type": "display_data",
          "data": {
            "text/plain": [
              "<IPython.core.display.HTML object>"
            ],
            "text/html": [
              "<style>\n",
              "    table.wandb td:nth-child(1) { padding: 0 10px; text-align: left ; width: auto;} td:nth-child(2) {text-align: left ; width: 100%}\n",
              "    .wandb-row { display: flex; flex-direction: row; flex-wrap: wrap; justify-content: flex-start; width: 100% }\n",
              "    .wandb-col { display: flex; flex-direction: column; flex-basis: 100%; flex: 1; padding: 10px; }\n",
              "    </style>\n",
              "<div class=\"wandb-row\"><div class=\"wandb-col\"><h3>Run history:</h3><br/><table class=\"wandb\"><tr><td>acc</td><td>▁▅▆▇██████████████████████████</td></tr><tr><td>loss</td><td>█▄▃▂▁▁▁▁▁▁▁▁▁▁▁▁▁▁▁▁▁▁▁▁▁▁▁▁▁▁</td></tr></table><br/></div><div class=\"wandb-col\"><h3>Run summary:</h3><br/><table class=\"wandb\"><tr><td>acc</td><td>1.0</td></tr><tr><td>loss</td><td>0.0</td></tr></table><br/></div></div>"
            ]
          },
          "metadata": {}
        },
        {
          "output_type": "display_data",
          "data": {
            "text/plain": [
              "<IPython.core.display.HTML object>"
            ],
            "text/html": [
              "Synced <strong style=\"color:#cdcd00\">zesty-silence-1</strong>: <a href=\"https://wandb.ai/bexgboost/jupyter-projo/runs/3us8sz38\" target=\"_blank\">https://wandb.ai/bexgboost/jupyter-projo/runs/3us8sz38</a><br/>Synced 4 W&B file(s), 0 media file(s), 0 artifact file(s) and 0 other file(s)"
            ]
          },
          "metadata": {}
        },
        {
          "output_type": "display_data",
          "data": {
            "text/plain": [
              "<IPython.core.display.HTML object>"
            ],
            "text/html": [
              "Find logs at: <code>./wandb/run-20220727_101514-3us8sz38/logs</code>"
            ]
          },
          "metadata": {}
        }
      ],
      "source": [
        "if wandb.run is not None:\n",
        "  wandb.finish()"
      ]
    },
    {
      "cell_type": "markdown",
      "metadata": {
        "id": "bNSS5lKLJPwc"
      },
      "source": [
        "## Method 2: `display` and analyze a finished W&B `Run`"
      ]
    },
    {
      "cell_type": "markdown",
      "metadata": {
        "id": "P5yBKDkOJPwc"
      },
      "source": [
        "Interaction with W&B dashboards for training runs\n",
        "isn't limited to watching information come in live\n",
        "from the comfort of a notebook interface.\n",
        "\n",
        "All of the information you log to or create within W&B\n",
        "is available in perpetuity and programmatically via the W&B\n",
        "[Public API](https://docs.wandb.ai/guides/track/public-api-guide)."
      ]
    },
    {
      "cell_type": "code",
      "execution_count": 7,
      "metadata": {
        "id": "26dtA571JPwc"
      },
      "outputs": [],
      "source": [
        "api = wandb.Api()"
      ]
    },
    {
      "cell_type": "markdown",
      "metadata": {
        "id": "-diqvvapJPwc"
      },
      "source": [
        "In this example, we'll take a look at the training run for a chess piece detector\n",
        "created using [YOLOv5](https://ultralytics.com/yolov5),\n",
        "which includes a [W&B integration](https://docs.wandb.ai/guides/integrations/yolov5).\n",
        "\n",
        "You can train your own with [this colab](http://wandb.me/yolo-chess)."
      ]
    },
    {
      "cell_type": "code",
      "execution_count": 8,
      "metadata": {
        "colab": {
          "base_uri": "https://localhost:8080/",
          "height": 1000
        },
        "id": "WaynTT6EJPwc",
        "outputId": "9ee652ed-bac8-40cf-dded-872b3959ecd3"
      },
      "outputs": [
        {
          "output_type": "display_data",
          "data": {
            "text/plain": [
              "<IPython.core.display.HTML object>"
            ],
            "text/html": [
              "<iframe src=\"https://wandb.ai/wandb/yolo-chess/runs/33fp7u8d?jupyter=true\" style=\"border:none;width:100%;height:1080px;\"></iframe>"
            ]
          },
          "metadata": {}
        },
        {
          "output_type": "execute_result",
          "data": {
            "text/plain": [
              "True"
            ]
          },
          "metadata": {},
          "execution_count": 8
        }
      ],
      "source": [
        "team, project, run_id = \"wandb\", \"yolo-chess\", \"33fp7u8d\"\n",
        "run = api.run(f\"{team}/{project}/{run_id}\")\n",
        "\n",
        "run.display(height=1080)  # you may need to zoom out to see the whole window!"
      ]
    },
    {
      "cell_type": "markdown",
      "metadata": {
        "id": "nN8FFj3VJPwc"
      },
      "source": [
        "# But it's not just about `Run`s"
      ]
    },
    {
      "cell_type": "markdown",
      "metadata": {
        "id": "keg_e4HDJPwd"
      },
      "source": [
        "Anything you can do in a W&B workspace can be done from inside Jupyter\n",
        "if you have the URL for the workspace.\n",
        "\n",
        "That means that, without leaving Jupyter, you can use W&B to:"
      ]
    },
    {
      "cell_type": "markdown",
      "metadata": {
        "id": "HJ8HWIogJPwd"
      },
      "source": [
        "### Interactively analyze data in [Tables](https://docs.wandb.ai/guides/data-vis)"
      ]
    },
    {
      "cell_type": "markdown",
      "metadata": {
        "id": "Zz8vkD9oJPwd"
      },
      "source": [
        "And it doesn't have to be your own work -- it can be a `coworker`'s page as well."
      ]
    },
    {
      "cell_type": "code",
      "execution_count": 9,
      "metadata": {
        "colab": {
          "base_uri": "https://localhost:8080/",
          "height": 758
        },
        "id": "6ePaU6N_JPwd",
        "outputId": "9f7d03d4-847f-4eaa-9094-b96d083a7da8"
      },
      "outputs": [
        {
          "output_type": "display_data",
          "data": {
            "text/plain": [
              "<IPython.core.display.HTML object>"
            ],
            "text/html": [
              "<iframe src=\"https://wandb.ai/stacey/model_iterz/runs/10x1nnh2?jupyter=true\" style=\"border:none;width:100%;height:720px;\"></iframe>"
            ]
          },
          "metadata": {}
        },
        {
          "output_type": "execute_result",
          "data": {
            "text/plain": [
              "True"
            ]
          },
          "metadata": {},
          "execution_count": 9
        }
      ],
      "source": [
        "coworker, project, run_id = \"stacey\", \"model_iterz\", \"10x1nnh2\"\n",
        "run = api.run(f\"{coworker}/{project}/{run_id}\")\n",
        "\n",
        "run.display(height=720)"
      ]
    },
    {
      "cell_type": "markdown",
      "metadata": {
        "id": "f9bK4v0mJPwd"
      },
      "source": [
        "### Analyze the results of hyperparameter [Sweeps](https://docs.wandb.ai/guides/sweeps)"
      ]
    },
    {
      "cell_type": "code",
      "execution_count": 10,
      "metadata": {
        "colab": {
          "base_uri": "https://localhost:8080/",
          "height": 1000
        },
        "id": "PncdYrGlJPwd",
        "outputId": "1300b186-6078-457b-a5b3-385fee73096d"
      },
      "outputs": [
        {
          "output_type": "display_data",
          "data": {
            "text/plain": [
              "<IPython.core.display.HTML object>"
            ],
            "text/html": [
              "<iframe src=\"https://wandb.ai/charlesfrye/mnist-sweeps/sweeps/n60n6wv1?jupyter=true\" style=\"border:none;width:100%;height:1080px;\"></iframe>"
            ]
          },
          "metadata": {}
        },
        {
          "output_type": "execute_result",
          "data": {
            "text/plain": [
              "True"
            ]
          },
          "metadata": {},
          "execution_count": 10
        }
      ],
      "source": [
        "entity, project, sweep_id = \"charlesfrye\", \"mnist-sweeps\", \"n60n6wv1\"\n",
        "sweep = api.sweep(f\"{entity}/{project}/{sweep_id}\")\n",
        "\n",
        "sweep.display(height=1080)  # you may need to zoom out to see the whole window!"
      ]
    },
    {
      "cell_type": "markdown",
      "metadata": {
        "id": "fMF3EkEXJPwd"
      },
      "source": [
        "## Share results in [Reports](https://docs.wandb.ai/guides/reports)"
      ]
    },
    {
      "cell_type": "code",
      "execution_count": 11,
      "metadata": {
        "colab": {
          "base_uri": "https://localhost:8080/",
          "height": 1000
        },
        "id": "0WBxZdijJPwe",
        "outputId": "f7247a66-ccb4-4037-b70f-e1360fad1623"
      },
      "outputs": [
        {
          "output_type": "display_data",
          "data": {
            "text/plain": [
              "<wandb.jupyter.IFrame at 0x7f4cb969a110>"
            ],
            "text/html": [
              "<iframe src=\"https://wandb.ai/charlesfrye/mnist-sweeps/reports/Third-Pass-Trying-Different-Shapes--VmlldzoxNjY1NDk?jupyter=true\" style=\"border:none;width:100%;height:1024px;\"></iframe>"
            ]
          },
          "metadata": {}
        }
      ],
      "source": [
        "entity, project = \"charlesfrye\", \"mnist-sweeps\"\n",
        "report_name = \"Third-Pass-Trying-Different-Shapes--VmlldzoxNjY1NDk\"\n",
        "url = f\"https://wandb.ai/{entity}/{project}/reports/{report_name}\"\n",
        "\n",
        "%wandb {entity}/{project}/reports/{report_name} -h 1024"
      ]
    },
    {
      "cell_type": "code",
      "source": [
        ""
      ],
      "metadata": {
        "id": "tSUObI3jKRJX"
      },
      "execution_count": null,
      "outputs": []
    }
  ],
  "metadata": {
    "kernelspec": {
      "display_name": "Python 3",
      "name": "python3"
    },
    "colab": {
      "name": "Interactive_W&B_Charts_Inside_Jupyter.ipynb",
      "provenance": []
    },
    "widgets": {
      "application/vnd.jupyter.widget-state+json": {
        "28d83c5ef5034bbc84afe03d467f2f5d": {
          "model_module": "@jupyter-widgets/controls",
          "model_name": "VBoxModel",
          "model_module_version": "1.5.0",
          "state": {
            "_dom_classes": [],
            "_model_module": "@jupyter-widgets/controls",
            "_model_module_version": "1.5.0",
            "_model_name": "VBoxModel",
            "_view_count": null,
            "_view_module": "@jupyter-widgets/controls",
            "_view_module_version": "1.5.0",
            "_view_name": "VBoxView",
            "box_style": "",
            "children": [
              "IPY_MODEL_2adbc2c949af468f88c029a2dcd7d9d7",
              "IPY_MODEL_fd49bdccc54244c8a5c3dfc319166ea3"
            ],
            "layout": "IPY_MODEL_c92f82b732364599a3494436f8bcfc8e"
          }
        },
        "2adbc2c949af468f88c029a2dcd7d9d7": {
          "model_module": "@jupyter-widgets/controls",
          "model_name": "LabelModel",
          "model_module_version": "1.5.0",
          "state": {
            "_dom_classes": [],
            "_model_module": "@jupyter-widgets/controls",
            "_model_module_version": "1.5.0",
            "_model_name": "LabelModel",
            "_view_count": null,
            "_view_module": "@jupyter-widgets/controls",
            "_view_module_version": "1.5.0",
            "_view_name": "LabelView",
            "description": "",
            "description_tooltip": null,
            "layout": "IPY_MODEL_2ddacf243a984ca5890381a90332c9fd",
            "placeholder": "​",
            "style": "IPY_MODEL_0d10130c61d74dada8847ec991550bf6",
            "value": "0.008 MB of 0.008 MB uploaded (0.000 MB deduped)\r"
          }
        },
        "fd49bdccc54244c8a5c3dfc319166ea3": {
          "model_module": "@jupyter-widgets/controls",
          "model_name": "FloatProgressModel",
          "model_module_version": "1.5.0",
          "state": {
            "_dom_classes": [],
            "_model_module": "@jupyter-widgets/controls",
            "_model_module_version": "1.5.0",
            "_model_name": "FloatProgressModel",
            "_view_count": null,
            "_view_module": "@jupyter-widgets/controls",
            "_view_module_version": "1.5.0",
            "_view_name": "ProgressView",
            "bar_style": "",
            "description": "",
            "description_tooltip": null,
            "layout": "IPY_MODEL_b8a494eea1304f3ea4ce66a00287a6b8",
            "max": 1,
            "min": 0,
            "orientation": "horizontal",
            "style": "IPY_MODEL_6d1d60cf4b1f4500af32e2fd0a09adf0",
            "value": 1
          }
        },
        "c92f82b732364599a3494436f8bcfc8e": {
          "model_module": "@jupyter-widgets/base",
          "model_name": "LayoutModel",
          "model_module_version": "1.2.0",
          "state": {
            "_model_module": "@jupyter-widgets/base",
            "_model_module_version": "1.2.0",
            "_model_name": "LayoutModel",
            "_view_count": null,
            "_view_module": "@jupyter-widgets/base",
            "_view_module_version": "1.2.0",
            "_view_name": "LayoutView",
            "align_content": null,
            "align_items": null,
            "align_self": null,
            "border": null,
            "bottom": null,
            "display": null,
            "flex": null,
            "flex_flow": null,
            "grid_area": null,
            "grid_auto_columns": null,
            "grid_auto_flow": null,
            "grid_auto_rows": null,
            "grid_column": null,
            "grid_gap": null,
            "grid_row": null,
            "grid_template_areas": null,
            "grid_template_columns": null,
            "grid_template_rows": null,
            "height": null,
            "justify_content": null,
            "justify_items": null,
            "left": null,
            "margin": null,
            "max_height": null,
            "max_width": null,
            "min_height": null,
            "min_width": null,
            "object_fit": null,
            "object_position": null,
            "order": null,
            "overflow": null,
            "overflow_x": null,
            "overflow_y": null,
            "padding": null,
            "right": null,
            "top": null,
            "visibility": null,
            "width": null
          }
        },
        "2ddacf243a984ca5890381a90332c9fd": {
          "model_module": "@jupyter-widgets/base",
          "model_name": "LayoutModel",
          "model_module_version": "1.2.0",
          "state": {
            "_model_module": "@jupyter-widgets/base",
            "_model_module_version": "1.2.0",
            "_model_name": "LayoutModel",
            "_view_count": null,
            "_view_module": "@jupyter-widgets/base",
            "_view_module_version": "1.2.0",
            "_view_name": "LayoutView",
            "align_content": null,
            "align_items": null,
            "align_self": null,
            "border": null,
            "bottom": null,
            "display": null,
            "flex": null,
            "flex_flow": null,
            "grid_area": null,
            "grid_auto_columns": null,
            "grid_auto_flow": null,
            "grid_auto_rows": null,
            "grid_column": null,
            "grid_gap": null,
            "grid_row": null,
            "grid_template_areas": null,
            "grid_template_columns": null,
            "grid_template_rows": null,
            "height": null,
            "justify_content": null,
            "justify_items": null,
            "left": null,
            "margin": null,
            "max_height": null,
            "max_width": null,
            "min_height": null,
            "min_width": null,
            "object_fit": null,
            "object_position": null,
            "order": null,
            "overflow": null,
            "overflow_x": null,
            "overflow_y": null,
            "padding": null,
            "right": null,
            "top": null,
            "visibility": null,
            "width": null
          }
        },
        "0d10130c61d74dada8847ec991550bf6": {
          "model_module": "@jupyter-widgets/controls",
          "model_name": "DescriptionStyleModel",
          "model_module_version": "1.5.0",
          "state": {
            "_model_module": "@jupyter-widgets/controls",
            "_model_module_version": "1.5.0",
            "_model_name": "DescriptionStyleModel",
            "_view_count": null,
            "_view_module": "@jupyter-widgets/base",
            "_view_module_version": "1.2.0",
            "_view_name": "StyleView",
            "description_width": ""
          }
        },
        "b8a494eea1304f3ea4ce66a00287a6b8": {
          "model_module": "@jupyter-widgets/base",
          "model_name": "LayoutModel",
          "model_module_version": "1.2.0",
          "state": {
            "_model_module": "@jupyter-widgets/base",
            "_model_module_version": "1.2.0",
            "_model_name": "LayoutModel",
            "_view_count": null,
            "_view_module": "@jupyter-widgets/base",
            "_view_module_version": "1.2.0",
            "_view_name": "LayoutView",
            "align_content": null,
            "align_items": null,
            "align_self": null,
            "border": null,
            "bottom": null,
            "display": null,
            "flex": null,
            "flex_flow": null,
            "grid_area": null,
            "grid_auto_columns": null,
            "grid_auto_flow": null,
            "grid_auto_rows": null,
            "grid_column": null,
            "grid_gap": null,
            "grid_row": null,
            "grid_template_areas": null,
            "grid_template_columns": null,
            "grid_template_rows": null,
            "height": null,
            "justify_content": null,
            "justify_items": null,
            "left": null,
            "margin": null,
            "max_height": null,
            "max_width": null,
            "min_height": null,
            "min_width": null,
            "object_fit": null,
            "object_position": null,
            "order": null,
            "overflow": null,
            "overflow_x": null,
            "overflow_y": null,
            "padding": null,
            "right": null,
            "top": null,
            "visibility": null,
            "width": null
          }
        },
        "6d1d60cf4b1f4500af32e2fd0a09adf0": {
          "model_module": "@jupyter-widgets/controls",
          "model_name": "ProgressStyleModel",
          "model_module_version": "1.5.0",
          "state": {
            "_model_module": "@jupyter-widgets/controls",
            "_model_module_version": "1.5.0",
            "_model_name": "ProgressStyleModel",
            "_view_count": null,
            "_view_module": "@jupyter-widgets/base",
            "_view_module_version": "1.2.0",
            "_view_name": "StyleView",
            "bar_color": null,
            "description_width": ""
          }
        }
      }
    }
  },
  "nbformat": 4,
  "nbformat_minor": 0
}